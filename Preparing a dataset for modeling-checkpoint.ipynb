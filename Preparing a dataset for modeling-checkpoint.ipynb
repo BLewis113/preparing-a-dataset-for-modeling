{
 "cells": [
  {
   "cell_type": "code",
   "execution_count": 1,
   "metadata": {},
   "outputs": [],
   "source": [
    "import pandas as pd\n",
    "import numpy as np\n",
    "import matplotlib.pyplot as plt\n",
    "import seaborn as sns\n",
    "import scipy.stats as stats"
   ]
  },
  {
   "cell_type": "markdown",
   "metadata": {},
   "source": [
    "Can we predict what position will lead the league in different stats?"
   ]
  },
  {
   "cell_type": "code",
   "execution_count": 2,
   "metadata": {},
   "outputs": [
    {
     "data": {
      "text/html": [
       "<div>\n",
       "<style scoped>\n",
       "    .dataframe tbody tr th:only-of-type {\n",
       "        vertical-align: middle;\n",
       "    }\n",
       "\n",
       "    .dataframe tbody tr th {\n",
       "        vertical-align: top;\n",
       "    }\n",
       "\n",
       "    .dataframe thead th {\n",
       "        text-align: right;\n",
       "    }\n",
       "</style>\n",
       "<table border=\"1\" class=\"dataframe\">\n",
       "  <thead>\n",
       "    <tr style=\"text-align: right;\">\n",
       "      <th></th>\n",
       "      <th>#</th>\n",
       "      <th>Season Start</th>\n",
       "      <th>PlayerName</th>\n",
       "      <th>Salary</th>\n",
       "      <th>Pos</th>\n",
       "      <th>Age</th>\n",
       "      <th>Tm</th>\n",
       "      <th>G</th>\n",
       "      <th>GS</th>\n",
       "      <th>MP</th>\n",
       "      <th>...</th>\n",
       "      <th>FT%</th>\n",
       "      <th>ORB</th>\n",
       "      <th>DRB</th>\n",
       "      <th>TRB</th>\n",
       "      <th>AST</th>\n",
       "      <th>STL</th>\n",
       "      <th>BLK</th>\n",
       "      <th>TOV</th>\n",
       "      <th>PF</th>\n",
       "      <th>PTS</th>\n",
       "    </tr>\n",
       "  </thead>\n",
       "  <tbody>\n",
       "    <tr>\n",
       "      <th>0</th>\n",
       "      <td>24304</td>\n",
       "      <td>2016</td>\n",
       "      <td>A.J. Hammons</td>\n",
       "      <td>$1,312,611.00</td>\n",
       "      <td>C</td>\n",
       "      <td>24</td>\n",
       "      <td>DAL</td>\n",
       "      <td>22</td>\n",
       "      <td>0</td>\n",
       "      <td>163</td>\n",
       "      <td>...</td>\n",
       "      <td>0.450</td>\n",
       "      <td>8</td>\n",
       "      <td>28</td>\n",
       "      <td>36</td>\n",
       "      <td>4</td>\n",
       "      <td>1</td>\n",
       "      <td>13</td>\n",
       "      <td>10</td>\n",
       "      <td>21</td>\n",
       "      <td>48</td>\n",
       "    </tr>\n",
       "    <tr>\n",
       "      <th>1</th>\n",
       "      <td>24165</td>\n",
       "      <td>2016</td>\n",
       "      <td>Aaron Brooks</td>\n",
       "      <td>$2,116,955.00</td>\n",
       "      <td>PG</td>\n",
       "      <td>32</td>\n",
       "      <td>IND</td>\n",
       "      <td>65</td>\n",
       "      <td>0</td>\n",
       "      <td>894</td>\n",
       "      <td>...</td>\n",
       "      <td>0.800</td>\n",
       "      <td>18</td>\n",
       "      <td>51</td>\n",
       "      <td>69</td>\n",
       "      <td>125</td>\n",
       "      <td>25</td>\n",
       "      <td>9</td>\n",
       "      <td>66</td>\n",
       "      <td>93</td>\n",
       "      <td>322</td>\n",
       "    </tr>\n",
       "    <tr>\n",
       "      <th>2</th>\n",
       "      <td>24289</td>\n",
       "      <td>2016</td>\n",
       "      <td>Aaron Gordon</td>\n",
       "      <td>$5,504,420.00</td>\n",
       "      <td>SF</td>\n",
       "      <td>21</td>\n",
       "      <td>ORL</td>\n",
       "      <td>80</td>\n",
       "      <td>72</td>\n",
       "      <td>2298</td>\n",
       "      <td>...</td>\n",
       "      <td>0.719</td>\n",
       "      <td>116</td>\n",
       "      <td>289</td>\n",
       "      <td>405</td>\n",
       "      <td>150</td>\n",
       "      <td>64</td>\n",
       "      <td>40</td>\n",
       "      <td>89</td>\n",
       "      <td>172</td>\n",
       "      <td>1019</td>\n",
       "    </tr>\n",
       "    <tr>\n",
       "      <th>3</th>\n",
       "      <td>24315</td>\n",
       "      <td>2016</td>\n",
       "      <td>Aaron Harrison</td>\n",
       "      <td>NaN</td>\n",
       "      <td>SG</td>\n",
       "      <td>22</td>\n",
       "      <td>CHO</td>\n",
       "      <td>5</td>\n",
       "      <td>0</td>\n",
       "      <td>17</td>\n",
       "      <td>...</td>\n",
       "      <td>0.500</td>\n",
       "      <td>0</td>\n",
       "      <td>3</td>\n",
       "      <td>3</td>\n",
       "      <td>3</td>\n",
       "      <td>0</td>\n",
       "      <td>0</td>\n",
       "      <td>0</td>\n",
       "      <td>2</td>\n",
       "      <td>1</td>\n",
       "    </tr>\n",
       "    <tr>\n",
       "      <th>4</th>\n",
       "      <td>24523</td>\n",
       "      <td>2016</td>\n",
       "      <td>Adreian Payne</td>\n",
       "      <td>NaN</td>\n",
       "      <td>PF</td>\n",
       "      <td>25</td>\n",
       "      <td>MIN</td>\n",
       "      <td>18</td>\n",
       "      <td>0</td>\n",
       "      <td>135</td>\n",
       "      <td>...</td>\n",
       "      <td>0.737</td>\n",
       "      <td>9</td>\n",
       "      <td>24</td>\n",
       "      <td>33</td>\n",
       "      <td>7</td>\n",
       "      <td>8</td>\n",
       "      <td>7</td>\n",
       "      <td>8</td>\n",
       "      <td>32</td>\n",
       "      <td>63</td>\n",
       "    </tr>\n",
       "  </tbody>\n",
       "</table>\n",
       "<p>5 rows × 54 columns</p>\n",
       "</div>"
      ],
      "text/plain": [
       "       #  Season Start      PlayerName           Salary Pos  Age   Tm   G  GS  \\\n",
       "0  24304          2016    A.J. Hammons   $1,312,611.00    C   24  DAL  22   0   \n",
       "1  24165          2016    Aaron Brooks   $2,116,955.00   PG   32  IND  65   0   \n",
       "2  24289          2016    Aaron Gordon   $5,504,420.00   SF   21  ORL  80  72   \n",
       "3  24315          2016  Aaron Harrison              NaN  SG   22  CHO   5   0   \n",
       "4  24523          2016   Adreian Payne              NaN  PF   25  MIN  18   0   \n",
       "\n",
       "     MP  ...     FT%  ORB  DRB  TRB  AST  STL  BLK  TOV   PF   PTS  \n",
       "0   163  ...   0.450    8   28   36    4    1   13   10   21    48  \n",
       "1   894  ...   0.800   18   51   69  125   25    9   66   93   322  \n",
       "2  2298  ...   0.719  116  289  405  150   64   40   89  172  1019  \n",
       "3    17  ...   0.500    0    3    3    3    0    0    0    2     1  \n",
       "4   135  ...   0.737    9   24   33    7    8    7    8   32    63  \n",
       "\n",
       "[5 rows x 54 columns]"
      ]
     },
     "execution_count": 2,
     "metadata": {},
     "output_type": "execute_result"
    }
   ],
   "source": [
    "nba_data = pd.read_csv(r'C:\\Users\\Benjamin\\Desktop\\PrepCapstone\\nbaplayers1718.csv')\n",
    "nba_data.head()"
   ]
  },
  {
   "cell_type": "code",
   "execution_count": 3,
   "metadata": {},
   "outputs": [
    {
     "name": "stdout",
     "output_type": "stream",
     "text": [
      "486\n"
     ]
    }
   ],
   "source": [
    "print(len(nba_data))"
   ]
  },
  {
   "cell_type": "code",
   "execution_count": 4,
   "metadata": {},
   "outputs": [
    {
     "data": {
      "text/plain": [
       "#               171.748286\n",
       "Season Start      0.000000\n",
       "Age               4.345194\n",
       "G                24.835638\n",
       "GS               28.715875\n",
       "MP              842.438143\n",
       "PER               5.762420\n",
       "TS%               0.089771\n",
       "3PAr              0.209748\n",
       "FTr               0.180287\n",
       "ORB%              4.246585\n",
       "DRB%              7.337450\n",
       "TRB%              5.201848\n",
       "AST%              9.172849\n",
       "STL%              0.923243\n",
       "BLK%              1.690613\n",
       "TOV%              5.332382\n",
       "USG%              5.597041\n",
       "blanl                  NaN\n",
       "OWS               2.081620\n",
       "DWS               1.085874\n",
       "WS                2.898265\n",
       "WS/48             0.082869\n",
       "blank2                 NaN\n",
       "OBPM              3.396019\n",
       "DBPM              2.033137\n",
       "BPM               4.220521\n",
       "VORP              1.454814\n",
       "FG              174.667670\n",
       "FGA             371.858588\n",
       "FG%               0.099094\n",
       "3P               56.011800\n",
       "3PA             147.204832\n",
       "3P%               0.131183\n",
       "2P              142.477490\n",
       "2PA             275.717392\n",
       "2P%               0.109510\n",
       "eFG%              0.097868\n",
       "FT              109.188109\n",
       "FTA             133.591182\n",
       "FT%               0.139453\n",
       "ORB              57.476904\n",
       "DRB             148.262162\n",
       "TRB             198.675410\n",
       "AST             134.125263\n",
       "STL              32.692854\n",
       "BLK              29.254771\n",
       "TOV              62.423127\n",
       "PF               66.589277\n",
       "PTS             487.642042\n",
       "dtype: float64"
      ]
     },
     "execution_count": 4,
     "metadata": {},
     "output_type": "execute_result"
    }
   ],
   "source": [
    "nba_data.std()"
   ]
  },
  {
   "cell_type": "code",
   "execution_count": 5,
   "metadata": {},
   "outputs": [
    {
     "data": {
      "text/plain": [
       "#               24392.170782\n",
       "Season Start     2016.000000\n",
       "Age                26.405350\n",
       "G                  53.783951\n",
       "GS                 25.308642\n",
       "MP               1223.051440\n",
       "PER                13.020782\n",
       "TS%                 0.526944\n",
       "3PAr                0.314058\n",
       "FTr                 0.270179\n",
       "ORB%                5.067901\n",
       "DRB%               15.211934\n",
       "TRB%               10.145267\n",
       "AST%               13.067695\n",
       "STL%                1.545062\n",
       "BLK%                1.664403\n",
       "TOV%               12.809072\n",
       "USG%               18.608848\n",
       "blanl                    NaN\n",
       "OWS                 1.335597\n",
       "DWS                 1.243416\n",
       "WS                  2.580247\n",
       "WS/48               0.077249\n",
       "blank2                   NaN\n",
       "OBPM               -1.397531\n",
       "DBPM               -0.304733\n",
       "BPM                -1.701852\n",
       "VORP                0.616667\n",
       "FG                197.656379\n",
       "FGA               432.337449\n",
       "FG%                 0.441268\n",
       "3P                 48.864198\n",
       "3PA               136.676955\n",
       "3P%                 0.299342\n",
       "2P                148.792181\n",
       "2PA               295.660494\n",
       "2P%                 0.483099\n",
       "eFG%                0.493794\n",
       "FT                 90.294239\n",
       "FTA               116.985597\n",
       "FT%                 0.741155\n",
       "ORB                51.329218\n",
       "DRB               168.962963\n",
       "TRB               220.292181\n",
       "AST               114.522634\n",
       "STL                38.997942\n",
       "BLK                24.041152\n",
       "TOV                67.691358\n",
       "PF                100.720165\n",
       "PTS               534.471193\n",
       "dtype: float64"
      ]
     },
     "execution_count": 5,
     "metadata": {},
     "output_type": "execute_result"
    }
   ],
   "source": [
    "nba_data.mean()"
   ]
  },
  {
   "cell_type": "code",
   "execution_count": 6,
   "metadata": {},
   "outputs": [
    {
     "data": {
      "text/html": [
       "<div>\n",
       "<style scoped>\n",
       "    .dataframe tbody tr th:only-of-type {\n",
       "        vertical-align: middle;\n",
       "    }\n",
       "\n",
       "    .dataframe tbody tr th {\n",
       "        vertical-align: top;\n",
       "    }\n",
       "\n",
       "    .dataframe thead th {\n",
       "        text-align: right;\n",
       "    }\n",
       "</style>\n",
       "<table border=\"1\" class=\"dataframe\">\n",
       "  <thead>\n",
       "    <tr style=\"text-align: right;\">\n",
       "      <th></th>\n",
       "      <th>Pos</th>\n",
       "      <th>G</th>\n",
       "      <th>AST</th>\n",
       "      <th>PTS</th>\n",
       "      <th>MP</th>\n",
       "      <th>TRB</th>\n",
       "      <th>STL</th>\n",
       "    </tr>\n",
       "  </thead>\n",
       "  <tbody>\n",
       "    <tr>\n",
       "      <th>0</th>\n",
       "      <td>C</td>\n",
       "      <td>22</td>\n",
       "      <td>4</td>\n",
       "      <td>48</td>\n",
       "      <td>163</td>\n",
       "      <td>36</td>\n",
       "      <td>1</td>\n",
       "    </tr>\n",
       "    <tr>\n",
       "      <th>1</th>\n",
       "      <td>PG</td>\n",
       "      <td>65</td>\n",
       "      <td>125</td>\n",
       "      <td>322</td>\n",
       "      <td>894</td>\n",
       "      <td>69</td>\n",
       "      <td>25</td>\n",
       "    </tr>\n",
       "    <tr>\n",
       "      <th>2</th>\n",
       "      <td>SF</td>\n",
       "      <td>80</td>\n",
       "      <td>150</td>\n",
       "      <td>1019</td>\n",
       "      <td>2298</td>\n",
       "      <td>405</td>\n",
       "      <td>64</td>\n",
       "    </tr>\n",
       "    <tr>\n",
       "      <th>3</th>\n",
       "      <td>SG</td>\n",
       "      <td>5</td>\n",
       "      <td>3</td>\n",
       "      <td>1</td>\n",
       "      <td>17</td>\n",
       "      <td>3</td>\n",
       "      <td>0</td>\n",
       "    </tr>\n",
       "    <tr>\n",
       "      <th>4</th>\n",
       "      <td>PF</td>\n",
       "      <td>18</td>\n",
       "      <td>7</td>\n",
       "      <td>63</td>\n",
       "      <td>135</td>\n",
       "      <td>33</td>\n",
       "      <td>8</td>\n",
       "    </tr>\n",
       "  </tbody>\n",
       "</table>\n",
       "</div>"
      ],
      "text/plain": [
       "  Pos   G  AST   PTS    MP  TRB  STL\n",
       "0   C  22    4    48   163   36    1\n",
       "1  PG  65  125   322   894   69   25\n",
       "2  SF  80  150  1019  2298  405   64\n",
       "3  SG   5    3     1    17    3    0\n",
       "4  PF  18    7    63   135   33    8"
      ]
     },
     "execution_count": 6,
     "metadata": {},
     "output_type": "execute_result"
    }
   ],
   "source": [
    "# Making a subset of the nba data\n",
    "df = nba_data[[ 'Pos', 'G', 'AST', 'PTS', 'MP', 'TRB', 'STL']]\n",
    "df.head()"
   ]
  },
  {
   "cell_type": "code",
   "execution_count": 7,
   "metadata": {},
   "outputs": [
    {
     "data": {
      "text/html": [
       "<div>\n",
       "<style scoped>\n",
       "    .dataframe tbody tr th:only-of-type {\n",
       "        vertical-align: middle;\n",
       "    }\n",
       "\n",
       "    .dataframe tbody tr th {\n",
       "        vertical-align: top;\n",
       "    }\n",
       "\n",
       "    .dataframe thead th {\n",
       "        text-align: right;\n",
       "    }\n",
       "</style>\n",
       "<table border=\"1\" class=\"dataframe\">\n",
       "  <thead>\n",
       "    <tr style=\"text-align: right;\">\n",
       "      <th></th>\n",
       "      <th>G</th>\n",
       "      <th>AST</th>\n",
       "      <th>PTS</th>\n",
       "      <th>MP</th>\n",
       "      <th>TRB</th>\n",
       "      <th>STL</th>\n",
       "    </tr>\n",
       "  </thead>\n",
       "  <tbody>\n",
       "    <tr>\n",
       "      <th>count</th>\n",
       "      <td>486.000000</td>\n",
       "      <td>486.000000</td>\n",
       "      <td>486.000000</td>\n",
       "      <td>486.000000</td>\n",
       "      <td>486.000000</td>\n",
       "      <td>486.000000</td>\n",
       "    </tr>\n",
       "    <tr>\n",
       "      <th>mean</th>\n",
       "      <td>53.783951</td>\n",
       "      <td>114.522634</td>\n",
       "      <td>534.471193</td>\n",
       "      <td>1223.051440</td>\n",
       "      <td>220.292181</td>\n",
       "      <td>38.997942</td>\n",
       "    </tr>\n",
       "    <tr>\n",
       "      <th>std</th>\n",
       "      <td>24.835638</td>\n",
       "      <td>134.125263</td>\n",
       "      <td>487.642042</td>\n",
       "      <td>842.438143</td>\n",
       "      <td>198.675410</td>\n",
       "      <td>32.692854</td>\n",
       "    </tr>\n",
       "    <tr>\n",
       "      <th>min</th>\n",
       "      <td>1.000000</td>\n",
       "      <td>0.000000</td>\n",
       "      <td>0.000000</td>\n",
       "      <td>1.000000</td>\n",
       "      <td>0.000000</td>\n",
       "      <td>0.000000</td>\n",
       "    </tr>\n",
       "    <tr>\n",
       "      <th>25%</th>\n",
       "      <td>35.250000</td>\n",
       "      <td>23.250000</td>\n",
       "      <td>143.000000</td>\n",
       "      <td>449.500000</td>\n",
       "      <td>64.750000</td>\n",
       "      <td>13.000000</td>\n",
       "    </tr>\n",
       "    <tr>\n",
       "      <th>50%</th>\n",
       "      <td>62.500000</td>\n",
       "      <td>72.000000</td>\n",
       "      <td>434.500000</td>\n",
       "      <td>1197.500000</td>\n",
       "      <td>178.000000</td>\n",
       "      <td>33.000000</td>\n",
       "    </tr>\n",
       "    <tr>\n",
       "      <th>75%</th>\n",
       "      <td>75.000000</td>\n",
       "      <td>150.750000</td>\n",
       "      <td>772.750000</td>\n",
       "      <td>1942.250000</td>\n",
       "      <td>305.750000</td>\n",
       "      <td>56.750000</td>\n",
       "    </tr>\n",
       "    <tr>\n",
       "      <th>max</th>\n",
       "      <td>82.000000</td>\n",
       "      <td>906.000000</td>\n",
       "      <td>2558.000000</td>\n",
       "      <td>3048.000000</td>\n",
       "      <td>1116.000000</td>\n",
       "      <td>157.000000</td>\n",
       "    </tr>\n",
       "  </tbody>\n",
       "</table>\n",
       "</div>"
      ],
      "text/plain": [
       "                G         AST          PTS           MP          TRB  \\\n",
       "count  486.000000  486.000000   486.000000   486.000000   486.000000   \n",
       "mean    53.783951  114.522634   534.471193  1223.051440   220.292181   \n",
       "std     24.835638  134.125263   487.642042   842.438143   198.675410   \n",
       "min      1.000000    0.000000     0.000000     1.000000     0.000000   \n",
       "25%     35.250000   23.250000   143.000000   449.500000    64.750000   \n",
       "50%     62.500000   72.000000   434.500000  1197.500000   178.000000   \n",
       "75%     75.000000  150.750000   772.750000  1942.250000   305.750000   \n",
       "max     82.000000  906.000000  2558.000000  3048.000000  1116.000000   \n",
       "\n",
       "              STL  \n",
       "count  486.000000  \n",
       "mean    38.997942  \n",
       "std     32.692854  \n",
       "min      0.000000  \n",
       "25%     13.000000  \n",
       "50%     33.000000  \n",
       "75%     56.750000  \n",
       "max    157.000000  "
      ]
     },
     "execution_count": 7,
     "metadata": {},
     "output_type": "execute_result"
    }
   ],
   "source": [
    "df.describe()"
   ]
  },
  {
   "cell_type": "code",
   "execution_count": 8,
   "metadata": {},
   "outputs": [
    {
     "name": "stderr",
     "output_type": "stream",
     "text": [
      "C:\\Users\\Benjamin\\Anaconda3\\lib\\site-packages\\scipy\\stats\\stats.py:1713: FutureWarning: Using a non-tuple sequence for multidimensional indexing is deprecated; use `arr[tuple(seq)]` instead of `arr[seq]`. In the future this will be interpreted as an array index, `arr[np.array(seq)]`, which will result either in an error or a different result.\n",
      "  return np.add.reduce(sorted[indexer] * weights, axis=axis) / sumval\n"
     ]
    },
    {
     "data": {
      "image/png": "[encoded data removed]",
      "text/plain": [
       "<Figure size 1080x1080 with 42 Axes>"
      ]
     },
     "metadata": {},
     "output_type": "display_data"
    }
   ],
   "source": [
    "sns.set_style(\"white\")\n",
    "\n",
    "# Declare the scatterplot matrix\n",
    "g = sns.PairGrid(df, diag_sharey=False)\n",
    "# Scatterplot.\n",
    "g.map_upper(plt.scatter, alpha=.5)\n",
    "# Fit line summarizing the linear relationship of the two variables.\n",
    "g.map_lower(sns.regplot, scatter_kws=dict(alpha=0))\n",
    "# Give information about the univariate distributions of the variables.\n",
    "g.map_diag(sns.kdeplot, lw=3)\n",
    "plt.show()\n"
   ]
  },
  {
   "cell_type": "code",
   "execution_count": 9,
   "metadata": {},
   "outputs": [
    {
     "name": "stdout",
     "output_type": "stream",
     "text": [
      "            G       AST       PTS        MP       TRB       STL\n",
      "G    1.000000  0.531009  0.689721  0.866472  0.673226  0.718524\n",
      "AST  0.531009  1.000000  0.737919  0.699985  0.422943  0.757817\n",
      "PTS  0.689721  0.737919  1.000000  0.897637  0.704757  0.769507\n",
      "MP   0.866472  0.699985  0.897637  1.000000  0.768254  0.856071\n",
      "TRB  0.673226  0.422943  0.704757  0.768254  1.000000  0.631184\n",
      "STL  0.718524  0.757817  0.769507  0.856071  0.631184  1.000000\n"
     ]
    },
    {
     "data": {
      "image/png": "[encoded data removed]",
      "text/plain": [
       "<Figure size 432x288 with 2 Axes>"
      ]
     },
     "metadata": {},
     "output_type": "display_data"
    }
   ],
   "source": [
    "# Making a correlation matrix\n",
    "corrmat = df.corr()\n",
    "print(corrmat)\n",
    "\n",
    "sns.heatmap(corrmat, vmax=.8, square=True)\n",
    "plt.show()"
   ]
  },
  {
   "cell_type": "code",
   "execution_count": 10,
   "metadata": {},
   "outputs": [
    {
     "name": "stderr",
     "output_type": "stream",
     "text": [
      "C:\\Users\\Benjamin\\Anaconda3\\lib\\site-packages\\seaborn\\axisgrid.py:230: UserWarning: The `size` paramter has been renamed to `height`; please update your code.\n",
      "  warnings.warn(msg, UserWarning)\n",
      "C:\\Users\\Benjamin\\Anaconda3\\lib\\site-packages\\seaborn\\axisgrid.py:715: UserWarning: Using the boxplot function without specifying `order` is likely to produce an incorrect plot.\n",
      "  warnings.warn(warning)\n"
     ]
    },
    {
     "data": {
      "image/png": "[encoded data removed]",
      "text/plain": [
       "<Figure size 576x360 with 2 Axes>"
      ]
     },
     "metadata": {},
     "output_type": "display_data"
    },
    {
     "name": "stderr",
     "output_type": "stream",
     "text": [
      "C:\\Users\\Benjamin\\Anaconda3\\lib\\site-packages\\seaborn\\axisgrid.py:230: UserWarning: The `size` paramter has been renamed to `height`; please update your code.\n",
      "  warnings.warn(msg, UserWarning)\n",
      "C:\\Users\\Benjamin\\Anaconda3\\lib\\site-packages\\seaborn\\axisgrid.py:715: UserWarning: Using the boxplot function without specifying `order` is likely to produce an incorrect plot.\n",
      "  warnings.warn(warning)\n"
     ]
    },
    {
     "data": {
      "image/png": "[encoded data removed]",
      "text/plain": [
       "<Figure size 504x360 with 2 Axes>"
      ]
     },
     "metadata": {},
     "output_type": "display_data"
    },
    {
     "name": "stderr",
     "output_type": "stream",
     "text": [
      "C:\\Users\\Benjamin\\Anaconda3\\lib\\site-packages\\seaborn\\axisgrid.py:230: UserWarning: The `size` paramter has been renamed to `height`; please update your code.\n",
      "  warnings.warn(msg, UserWarning)\n",
      "C:\\Users\\Benjamin\\Anaconda3\\lib\\site-packages\\seaborn\\axisgrid.py:715: UserWarning: Using the boxplot function without specifying `order` is likely to produce an incorrect plot.\n",
      "  warnings.warn(warning)\n"
     ]
    },
    {
     "data": {
      "image/png": "[encoded data removed]",
      "text/plain": [
       "<Figure size 504x360 with 2 Axes>"
      ]
     },
     "metadata": {},
     "output_type": "display_data"
    },
    {
     "name": "stdout",
     "output_type": "stream",
     "text": [
      "       AST                                                                G  \\\n",
      "     count        mean         std  min    25%    50%     75%    max  count   \n",
      "Pos                                                                           \n",
      "C     96.0   69.843750   79.991227  0.0  13.75   46.0   95.25  359.0   96.0   \n",
      "PF    98.0   69.234694   79.548572  0.0  12.75   51.5   96.75  533.0   98.0   \n",
      "PG    96.0  224.416667  206.650056  1.0  55.75  178.0  357.75  906.0   96.0   \n",
      "SF    90.0  101.255556  104.208365  0.0  35.25   74.5  139.50  646.0   90.0   \n",
      "SG   106.0  108.594340   93.008835  0.0  30.75   92.5  169.75  455.0  106.0   \n",
      "\n",
      "                 ...      STL           TRB                               \\\n",
      "          mean   ...      75%    max  count        mean         std  min   \n",
      "Pos              ...                                                       \n",
      "C    53.885417   ...    44.00  124.0   96.0  340.479167  286.059470  2.0   \n",
      "PF   50.775510   ...    45.75  154.0   98.0  241.612245  188.734398  2.0   \n",
      "PG   52.572917   ...    70.00  157.0   96.0  147.885417  138.774172  0.0   \n",
      "SF   58.533333   ...    72.75  147.0   90.0  232.766667  163.857368  1.0   \n",
      "SG   53.537736   ...    61.50  125.0  106.0  146.716981  105.709823  1.0   \n",
      "\n",
      "                                    \n",
      "        25%    50%     75%     max  \n",
      "Pos                                 \n",
      "C    123.25  291.0  496.50  1116.0  \n",
      "PF    75.00  217.0  386.25   666.0  \n",
      "PG    45.00  127.5  218.25   864.0  \n",
      "SF    94.25  220.0  336.50   700.0  \n",
      "SG    49.75  149.0  224.00   481.0  \n",
      "\n",
      "[5 rows x 48 columns]\n"
     ]
    }
   ],
   "source": [
    "#Making different subsets for tighter range\n",
    "df2 = df[[ 'Pos', 'PTS', 'MP',]]\n",
    "df3 = df[[ 'Pos', 'G', 'STL']]\n",
    "df4 = df[[ 'Pos', 'AST', 'TRB']]\n",
    "\n",
    "df_long2 = df2\n",
    "df_long2 = pd.melt(df_long2, id_vars=['Pos'])\n",
    "\n",
    "g = sns.FacetGrid(df_long2, col=\"variable\", size=5, aspect=.8)\n",
    "g = g.map(sns.boxplot, \"Pos\", \"value\")\n",
    "plt.show()\n",
    "\n",
    "df_long3 = df3\n",
    "df_long3 = pd.melt(df_long3, id_vars=['Pos'])\n",
    "\n",
    "g = sns.FacetGrid(df_long3, col=\"variable\", size=5, aspect=.7)\n",
    "g = g.map(sns.boxplot, \"Pos\", \"value\")\n",
    "plt.show()\n",
    "\n",
    "df_long4 = df4\n",
    "df_long4 = pd.melt(df_long4, id_vars=['Pos'])\n",
    "\n",
    "g = sns.FacetGrid(df_long4, col=\"variable\", size=5, aspect=.7)\n",
    "g = g.map(sns.boxplot, \"Pos\", \"value\")\n",
    "plt.show()\n",
    "\n",
    "print(df.groupby('Pos').describe())\n"
   ]
  },
  {
   "cell_type": "markdown",
   "metadata": {},
   "source": [
    "Making four features based on the 5 different positions"
   ]
  },
  {
   "cell_type": "code",
   "execution_count": 13,
   "metadata": {},
   "outputs": [
    {
     "data": {
      "text/html": [
       "<div>\n",
       "<style scoped>\n",
       "    .dataframe tbody tr th:only-of-type {\n",
       "        vertical-align: middle;\n",
       "    }\n",
       "\n",
       "    .dataframe tbody tr th {\n",
       "        vertical-align: top;\n",
       "    }\n",
       "\n",
       "    .dataframe thead th {\n",
       "        text-align: right;\n",
       "    }\n",
       "</style>\n",
       "<table border=\"1\" class=\"dataframe\">\n",
       "  <thead>\n",
       "    <tr style=\"text-align: right;\">\n",
       "      <th></th>\n",
       "      <th>C</th>\n",
       "      <th>PF</th>\n",
       "      <th>PG</th>\n",
       "      <th>SF</th>\n",
       "      <th>SG</th>\n",
       "    </tr>\n",
       "  </thead>\n",
       "  <tbody>\n",
       "    <tr>\n",
       "      <th>0</th>\n",
       "      <td>1</td>\n",
       "      <td>0</td>\n",
       "      <td>0</td>\n",
       "      <td>0</td>\n",
       "      <td>0</td>\n",
       "    </tr>\n",
       "    <tr>\n",
       "      <th>1</th>\n",
       "      <td>0</td>\n",
       "      <td>0</td>\n",
       "      <td>1</td>\n",
       "      <td>0</td>\n",
       "      <td>0</td>\n",
       "    </tr>\n",
       "    <tr>\n",
       "      <th>2</th>\n",
       "      <td>0</td>\n",
       "      <td>0</td>\n",
       "      <td>0</td>\n",
       "      <td>1</td>\n",
       "      <td>0</td>\n",
       "    </tr>\n",
       "    <tr>\n",
       "      <th>3</th>\n",
       "      <td>0</td>\n",
       "      <td>0</td>\n",
       "      <td>0</td>\n",
       "      <td>0</td>\n",
       "      <td>1</td>\n",
       "    </tr>\n",
       "    <tr>\n",
       "      <th>4</th>\n",
       "      <td>0</td>\n",
       "      <td>1</td>\n",
       "      <td>0</td>\n",
       "      <td>0</td>\n",
       "      <td>0</td>\n",
       "    </tr>\n",
       "    <tr>\n",
       "      <th>5</th>\n",
       "      <td>1</td>\n",
       "      <td>0</td>\n",
       "      <td>0</td>\n",
       "      <td>0</td>\n",
       "      <td>0</td>\n",
       "    </tr>\n",
       "    <tr>\n",
       "      <th>6</th>\n",
       "      <td>1</td>\n",
       "      <td>0</td>\n",
       "      <td>0</td>\n",
       "      <td>0</td>\n",
       "      <td>0</td>\n",
       "    </tr>\n",
       "    <tr>\n",
       "      <th>7</th>\n",
       "      <td>0</td>\n",
       "      <td>0</td>\n",
       "      <td>0</td>\n",
       "      <td>1</td>\n",
       "      <td>0</td>\n",
       "    </tr>\n",
       "    <tr>\n",
       "      <th>8</th>\n",
       "      <td>1</td>\n",
       "      <td>0</td>\n",
       "      <td>0</td>\n",
       "      <td>0</td>\n",
       "      <td>0</td>\n",
       "    </tr>\n",
       "    <tr>\n",
       "      <th>9</th>\n",
       "      <td>0</td>\n",
       "      <td>0</td>\n",
       "      <td>0</td>\n",
       "      <td>0</td>\n",
       "      <td>1</td>\n",
       "    </tr>\n",
       "    <tr>\n",
       "      <th>10</th>\n",
       "      <td>0</td>\n",
       "      <td>0</td>\n",
       "      <td>0</td>\n",
       "      <td>0</td>\n",
       "      <td>1</td>\n",
       "    </tr>\n",
       "    <tr>\n",
       "      <th>11</th>\n",
       "      <td>1</td>\n",
       "      <td>0</td>\n",
       "      <td>0</td>\n",
       "      <td>0</td>\n",
       "      <td>0</td>\n",
       "    </tr>\n",
       "    <tr>\n",
       "      <th>12</th>\n",
       "      <td>0</td>\n",
       "      <td>1</td>\n",
       "      <td>0</td>\n",
       "      <td>0</td>\n",
       "      <td>0</td>\n",
       "    </tr>\n",
       "    <tr>\n",
       "      <th>13</th>\n",
       "      <td>1</td>\n",
       "      <td>0</td>\n",
       "      <td>0</td>\n",
       "      <td>0</td>\n",
       "      <td>0</td>\n",
       "    </tr>\n",
       "    <tr>\n",
       "      <th>14</th>\n",
       "      <td>0</td>\n",
       "      <td>0</td>\n",
       "      <td>0</td>\n",
       "      <td>1</td>\n",
       "      <td>0</td>\n",
       "    </tr>\n",
       "    <tr>\n",
       "      <th>15</th>\n",
       "      <td>0</td>\n",
       "      <td>0</td>\n",
       "      <td>0</td>\n",
       "      <td>0</td>\n",
       "      <td>1</td>\n",
       "    </tr>\n",
       "    <tr>\n",
       "      <th>16</th>\n",
       "      <td>0</td>\n",
       "      <td>0</td>\n",
       "      <td>0</td>\n",
       "      <td>1</td>\n",
       "      <td>0</td>\n",
       "    </tr>\n",
       "    <tr>\n",
       "      <th>17</th>\n",
       "      <td>0</td>\n",
       "      <td>1</td>\n",
       "      <td>0</td>\n",
       "      <td>0</td>\n",
       "      <td>0</td>\n",
       "    </tr>\n",
       "    <tr>\n",
       "      <th>18</th>\n",
       "      <td>1</td>\n",
       "      <td>0</td>\n",
       "      <td>0</td>\n",
       "      <td>0</td>\n",
       "      <td>0</td>\n",
       "    </tr>\n",
       "    <tr>\n",
       "      <th>19</th>\n",
       "      <td>1</td>\n",
       "      <td>0</td>\n",
       "      <td>0</td>\n",
       "      <td>0</td>\n",
       "      <td>0</td>\n",
       "    </tr>\n",
       "    <tr>\n",
       "      <th>20</th>\n",
       "      <td>0</td>\n",
       "      <td>0</td>\n",
       "      <td>0</td>\n",
       "      <td>1</td>\n",
       "      <td>0</td>\n",
       "    </tr>\n",
       "    <tr>\n",
       "      <th>21</th>\n",
       "      <td>0</td>\n",
       "      <td>0</td>\n",
       "      <td>0</td>\n",
       "      <td>1</td>\n",
       "      <td>0</td>\n",
       "    </tr>\n",
       "    <tr>\n",
       "      <th>22</th>\n",
       "      <td>1</td>\n",
       "      <td>0</td>\n",
       "      <td>0</td>\n",
       "      <td>0</td>\n",
       "      <td>0</td>\n",
       "    </tr>\n",
       "    <tr>\n",
       "      <th>23</th>\n",
       "      <td>0</td>\n",
       "      <td>0</td>\n",
       "      <td>1</td>\n",
       "      <td>0</td>\n",
       "      <td>0</td>\n",
       "    </tr>\n",
       "    <tr>\n",
       "      <th>24</th>\n",
       "      <td>0</td>\n",
       "      <td>1</td>\n",
       "      <td>0</td>\n",
       "      <td>0</td>\n",
       "      <td>0</td>\n",
       "    </tr>\n",
       "    <tr>\n",
       "      <th>25</th>\n",
       "      <td>0</td>\n",
       "      <td>0</td>\n",
       "      <td>0</td>\n",
       "      <td>1</td>\n",
       "      <td>0</td>\n",
       "    </tr>\n",
       "    <tr>\n",
       "      <th>26</th>\n",
       "      <td>0</td>\n",
       "      <td>1</td>\n",
       "      <td>0</td>\n",
       "      <td>0</td>\n",
       "      <td>0</td>\n",
       "    </tr>\n",
       "    <tr>\n",
       "      <th>27</th>\n",
       "      <td>0</td>\n",
       "      <td>0</td>\n",
       "      <td>0</td>\n",
       "      <td>1</td>\n",
       "      <td>0</td>\n",
       "    </tr>\n",
       "    <tr>\n",
       "      <th>28</th>\n",
       "      <td>1</td>\n",
       "      <td>0</td>\n",
       "      <td>0</td>\n",
       "      <td>0</td>\n",
       "      <td>0</td>\n",
       "    </tr>\n",
       "    <tr>\n",
       "      <th>29</th>\n",
       "      <td>0</td>\n",
       "      <td>0</td>\n",
       "      <td>0</td>\n",
       "      <td>0</td>\n",
       "      <td>1</td>\n",
       "    </tr>\n",
       "    <tr>\n",
       "      <th>...</th>\n",
       "      <td>...</td>\n",
       "      <td>...</td>\n",
       "      <td>...</td>\n",
       "      <td>...</td>\n",
       "      <td>...</td>\n",
       "    </tr>\n",
       "    <tr>\n",
       "      <th>456</th>\n",
       "      <td>0</td>\n",
       "      <td>0</td>\n",
       "      <td>1</td>\n",
       "      <td>0</td>\n",
       "      <td>0</td>\n",
       "    </tr>\n",
       "    <tr>\n",
       "      <th>457</th>\n",
       "      <td>0</td>\n",
       "      <td>1</td>\n",
       "      <td>0</td>\n",
       "      <td>0</td>\n",
       "      <td>0</td>\n",
       "    </tr>\n",
       "    <tr>\n",
       "      <th>458</th>\n",
       "      <td>1</td>\n",
       "      <td>0</td>\n",
       "      <td>0</td>\n",
       "      <td>0</td>\n",
       "      <td>0</td>\n",
       "    </tr>\n",
       "    <tr>\n",
       "      <th>459</th>\n",
       "      <td>0</td>\n",
       "      <td>0</td>\n",
       "      <td>0</td>\n",
       "      <td>0</td>\n",
       "      <td>1</td>\n",
       "    </tr>\n",
       "    <tr>\n",
       "      <th>460</th>\n",
       "      <td>0</td>\n",
       "      <td>0</td>\n",
       "      <td>0</td>\n",
       "      <td>1</td>\n",
       "      <td>0</td>\n",
       "    </tr>\n",
       "    <tr>\n",
       "      <th>461</th>\n",
       "      <td>0</td>\n",
       "      <td>0</td>\n",
       "      <td>1</td>\n",
       "      <td>0</td>\n",
       "      <td>0</td>\n",
       "    </tr>\n",
       "    <tr>\n",
       "      <th>462</th>\n",
       "      <td>0</td>\n",
       "      <td>0</td>\n",
       "      <td>1</td>\n",
       "      <td>0</td>\n",
       "      <td>0</td>\n",
       "    </tr>\n",
       "    <tr>\n",
       "      <th>463</th>\n",
       "      <td>0</td>\n",
       "      <td>0</td>\n",
       "      <td>1</td>\n",
       "      <td>0</td>\n",
       "      <td>0</td>\n",
       "    </tr>\n",
       "    <tr>\n",
       "      <th>464</th>\n",
       "      <td>0</td>\n",
       "      <td>0</td>\n",
       "      <td>1</td>\n",
       "      <td>0</td>\n",
       "      <td>0</td>\n",
       "    </tr>\n",
       "    <tr>\n",
       "      <th>465</th>\n",
       "      <td>1</td>\n",
       "      <td>0</td>\n",
       "      <td>0</td>\n",
       "      <td>0</td>\n",
       "      <td>0</td>\n",
       "    </tr>\n",
       "    <tr>\n",
       "      <th>466</th>\n",
       "      <td>0</td>\n",
       "      <td>0</td>\n",
       "      <td>0</td>\n",
       "      <td>1</td>\n",
       "      <td>0</td>\n",
       "    </tr>\n",
       "    <tr>\n",
       "      <th>467</th>\n",
       "      <td>1</td>\n",
       "      <td>0</td>\n",
       "      <td>0</td>\n",
       "      <td>0</td>\n",
       "      <td>0</td>\n",
       "    </tr>\n",
       "    <tr>\n",
       "      <th>468</th>\n",
       "      <td>0</td>\n",
       "      <td>0</td>\n",
       "      <td>1</td>\n",
       "      <td>0</td>\n",
       "      <td>0</td>\n",
       "    </tr>\n",
       "    <tr>\n",
       "      <th>469</th>\n",
       "      <td>1</td>\n",
       "      <td>0</td>\n",
       "      <td>0</td>\n",
       "      <td>0</td>\n",
       "      <td>0</td>\n",
       "    </tr>\n",
       "    <tr>\n",
       "      <th>470</th>\n",
       "      <td>0</td>\n",
       "      <td>0</td>\n",
       "      <td>0</td>\n",
       "      <td>0</td>\n",
       "      <td>1</td>\n",
       "    </tr>\n",
       "    <tr>\n",
       "      <th>471</th>\n",
       "      <td>0</td>\n",
       "      <td>0</td>\n",
       "      <td>0</td>\n",
       "      <td>1</td>\n",
       "      <td>0</td>\n",
       "    </tr>\n",
       "    <tr>\n",
       "      <th>472</th>\n",
       "      <td>0</td>\n",
       "      <td>0</td>\n",
       "      <td>1</td>\n",
       "      <td>0</td>\n",
       "      <td>0</td>\n",
       "    </tr>\n",
       "    <tr>\n",
       "      <th>473</th>\n",
       "      <td>0</td>\n",
       "      <td>0</td>\n",
       "      <td>0</td>\n",
       "      <td>0</td>\n",
       "      <td>1</td>\n",
       "    </tr>\n",
       "    <tr>\n",
       "      <th>474</th>\n",
       "      <td>0</td>\n",
       "      <td>0</td>\n",
       "      <td>0</td>\n",
       "      <td>0</td>\n",
       "      <td>1</td>\n",
       "    </tr>\n",
       "    <tr>\n",
       "      <th>475</th>\n",
       "      <td>0</td>\n",
       "      <td>0</td>\n",
       "      <td>0</td>\n",
       "      <td>1</td>\n",
       "      <td>0</td>\n",
       "    </tr>\n",
       "    <tr>\n",
       "      <th>476</th>\n",
       "      <td>0</td>\n",
       "      <td>0</td>\n",
       "      <td>0</td>\n",
       "      <td>0</td>\n",
       "      <td>1</td>\n",
       "    </tr>\n",
       "    <tr>\n",
       "      <th>477</th>\n",
       "      <td>0</td>\n",
       "      <td>0</td>\n",
       "      <td>0</td>\n",
       "      <td>0</td>\n",
       "      <td>1</td>\n",
       "    </tr>\n",
       "    <tr>\n",
       "      <th>478</th>\n",
       "      <td>1</td>\n",
       "      <td>0</td>\n",
       "      <td>0</td>\n",
       "      <td>0</td>\n",
       "      <td>0</td>\n",
       "    </tr>\n",
       "    <tr>\n",
       "      <th>479</th>\n",
       "      <td>1</td>\n",
       "      <td>0</td>\n",
       "      <td>0</td>\n",
       "      <td>0</td>\n",
       "      <td>0</td>\n",
       "    </tr>\n",
       "    <tr>\n",
       "      <th>480</th>\n",
       "      <td>1</td>\n",
       "      <td>0</td>\n",
       "      <td>0</td>\n",
       "      <td>0</td>\n",
       "      <td>0</td>\n",
       "    </tr>\n",
       "    <tr>\n",
       "      <th>481</th>\n",
       "      <td>0</td>\n",
       "      <td>0</td>\n",
       "      <td>0</td>\n",
       "      <td>1</td>\n",
       "      <td>0</td>\n",
       "    </tr>\n",
       "    <tr>\n",
       "      <th>482</th>\n",
       "      <td>0</td>\n",
       "      <td>0</td>\n",
       "      <td>1</td>\n",
       "      <td>0</td>\n",
       "      <td>0</td>\n",
       "    </tr>\n",
       "    <tr>\n",
       "      <th>483</th>\n",
       "      <td>0</td>\n",
       "      <td>0</td>\n",
       "      <td>0</td>\n",
       "      <td>0</td>\n",
       "      <td>1</td>\n",
       "    </tr>\n",
       "    <tr>\n",
       "      <th>484</th>\n",
       "      <td>0</td>\n",
       "      <td>1</td>\n",
       "      <td>0</td>\n",
       "      <td>0</td>\n",
       "      <td>0</td>\n",
       "    </tr>\n",
       "    <tr>\n",
       "      <th>485</th>\n",
       "      <td>1</td>\n",
       "      <td>0</td>\n",
       "      <td>0</td>\n",
       "      <td>0</td>\n",
       "      <td>0</td>\n",
       "    </tr>\n",
       "  </tbody>\n",
       "</table>\n",
       "<p>486 rows × 5 columns</p>\n",
       "</div>"
      ],
      "text/plain": [
       "     C  PF  PG  SF  SG\n",
       "0    1   0   0   0   0\n",
       "1    0   0   1   0   0\n",
       "2    0   0   0   1   0\n",
       "3    0   0   0   0   1\n",
       "4    0   1   0   0   0\n",
       "5    1   0   0   0   0\n",
       "6    1   0   0   0   0\n",
       "7    0   0   0   1   0\n",
       "8    1   0   0   0   0\n",
       "9    0   0   0   0   1\n",
       "10   0   0   0   0   1\n",
       "11   1   0   0   0   0\n",
       "12   0   1   0   0   0\n",
       "13   1   0   0   0   0\n",
       "14   0   0   0   1   0\n",
       "15   0   0   0   0   1\n",
       "16   0   0   0   1   0\n",
       "17   0   1   0   0   0\n",
       "18   1   0   0   0   0\n",
       "19   1   0   0   0   0\n",
       "20   0   0   0   1   0\n",
       "21   0   0   0   1   0\n",
       "22   1   0   0   0   0\n",
       "23   0   0   1   0   0\n",
       "24   0   1   0   0   0\n",
       "25   0   0   0   1   0\n",
       "26   0   1   0   0   0\n",
       "27   0   0   0   1   0\n",
       "28   1   0   0   0   0\n",
       "29   0   0   0   0   1\n",
       "..  ..  ..  ..  ..  ..\n",
       "456  0   0   1   0   0\n",
       "457  0   1   0   0   0\n",
       "458  1   0   0   0   0\n",
       "459  0   0   0   0   1\n",
       "460  0   0   0   1   0\n",
       "461  0   0   1   0   0\n",
       "462  0   0   1   0   0\n",
       "463  0   0   1   0   0\n",
       "464  0   0   1   0   0\n",
       "465  1   0   0   0   0\n",
       "466  0   0   0   1   0\n",
       "467  1   0   0   0   0\n",
       "468  0   0   1   0   0\n",
       "469  1   0   0   0   0\n",
       "470  0   0   0   0   1\n",
       "471  0   0   0   1   0\n",
       "472  0   0   1   0   0\n",
       "473  0   0   0   0   1\n",
       "474  0   0   0   0   1\n",
       "475  0   0   0   1   0\n",
       "476  0   0   0   0   1\n",
       "477  0   0   0   0   1\n",
       "478  1   0   0   0   0\n",
       "479  1   0   0   0   0\n",
       "480  1   0   0   0   0\n",
       "481  0   0   0   1   0\n",
       "482  0   0   1   0   0\n",
       "483  0   0   0   0   1\n",
       "484  0   1   0   0   0\n",
       "485  1   0   0   0   0\n",
       "\n",
       "[486 rows x 5 columns]"
      ]
     },
     "execution_count": 13,
     "metadata": {},
     "output_type": "execute_result"
    }
   ],
   "source": [
    "for i in range(0, len(df.Pos)):\n",
    "    if pd.isnull(df.Pos[i]):\n",
    "        df.Pos[i] = df.Pos[i-1]\n",
    "        \n",
    "pd.get_dummies(df[\"Pos\"])"
   ]
  },
  {
   "cell_type": "markdown",
   "metadata": {},
   "source": [
    "Creating 5 new features for per game stats"
   ]
  },
  {
   "cell_type": "code",
   "execution_count": 14,
   "metadata": {},
   "outputs": [],
   "source": [
    "features['PPG'] = (df['PTS']) / df['G']\n",
    "features['APG'] = (df['AST']) / df['G']\n",
    "features['RPG'] = (df['TRB']) / df['G']\n",
    "features['SPG'] = (df['STL']) / df['G']\n",
    "features['MPG'] = (df['MP']) / df['G']"
   ]
  },
  {
   "cell_type": "markdown",
   "metadata": {},
   "source": [
    "This feature shows a season score based on contribution. All nba formulas for win scores or shares half assist numbers"
   ]
  },
  {
   "cell_type": "code",
   "execution_count": 15,
   "metadata": {},
   "outputs": [],
   "source": [
    "features['Season_score'] = (df['PTS']) + (df['TRB']) +(df['STL']) + (.5* (df['AST']))"
   ]
  },
  {
   "cell_type": "markdown",
   "metadata": {},
   "source": [
    "This feature is the contribution per game."
   ]
  },
  {
   "cell_type": "code",
   "execution_count": 16,
   "metadata": {},
   "outputs": [],
   "source": [
    "features['Game_score'] = features['Season_score'] / df['G']"
   ]
  },
  {
   "cell_type": "markdown",
   "metadata": {},
   "source": [
    "Using a filtering method to see the correlation between the new features."
   ]
  },
  {
   "cell_type": "code",
   "execution_count": 17,
   "metadata": {},
   "outputs": [
    {
     "name": "stdout",
     "output_type": "stream",
     "text": [
      "(0.9725589073057074, 1.152711322479494e-308)\n"
     ]
    }
   ],
   "source": [
    "from scipy.stats import pearsonr\n",
    "\n",
    "corr = pearsonr(features['PPG'], features['Game_score'])\n",
    "print(corr)"
   ]
  },
  {
   "cell_type": "code",
   "execution_count": 20,
   "metadata": {},
   "outputs": [
    {
     "name": "stdout",
     "output_type": "stream",
     "text": [
      "(0.8730665279970949, 4.3779736803198233e-153)\n"
     ]
    }
   ],
   "source": [
    "corr = pearsonr(features['PPG'], features['MPG'])\n",
    "print(corr)"
   ]
  },
  {
   "cell_type": "code",
   "execution_count": 21,
   "metadata": {},
   "outputs": [
    {
     "name": "stdout",
     "output_type": "stream",
     "text": [
      "(0.6751777809025818, 5.885995190438318e-66)\n"
     ]
    }
   ],
   "source": [
    "corr = pearsonr(features['PPG'], features['APG'])\n",
    "print(corr)"
   ]
  },
  {
   "cell_type": "code",
   "execution_count": 23,
   "metadata": {},
   "outputs": [
    {
     "name": "stdout",
     "output_type": "stream",
     "text": [
      "(0.5951154354139203, 6.806518581101798e-48)\n"
     ]
    }
   ],
   "source": [
    "corr = pearsonr(features['PPG'], features['RPG'])\n",
    "print(corr)"
   ]
  },
  {
   "cell_type": "code",
   "execution_count": 24,
   "metadata": {},
   "outputs": [
    {
     "name": "stdout",
     "output_type": "stream",
     "text": [
      "(0.6697055742102885, 1.5320515924938524e-64)\n"
     ]
    }
   ],
   "source": [
    "corr = pearsonr(features['PPG'], features['SPG'])\n",
    "print(corr)"
   ]
  },
  {
   "cell_type": "code",
   "execution_count": 25,
   "metadata": {},
   "outputs": [
    {
     "name": "stdout",
     "output_type": "stream",
     "text": [
      "(0.9473650227705174, 1.504355347734687e-241)\n"
     ]
    }
   ],
   "source": [
    "corr = pearsonr(features['Season_score'], features['Game_score'])\n",
    "print(corr)"
   ]
  },
  {
   "cell_type": "code",
   "execution_count": 26,
   "metadata": {},
   "outputs": [
    {
     "name": "stdout",
     "output_type": "stream",
     "text": [
      "(0.9179239272098036, 1.9139135621931452e-196)\n"
     ]
    }
   ],
   "source": [
    "corr = pearsonr(features['PPG'], features['Season_score'])\n",
    "print(corr)"
   ]
  },
  {
   "cell_type": "code",
   "execution_count": 27,
   "metadata": {},
   "outputs": [
    {
     "name": "stdout",
     "output_type": "stream",
     "text": [
      "(0.683829900420799, 2.939914324715397e-68)\n"
     ]
    }
   ],
   "source": [
    "corr = pearsonr(features['APG'], features['Game_score'])\n",
    "print(corr)"
   ]
  },
  {
   "cell_type": "code",
   "execution_count": 28,
   "metadata": {},
   "outputs": [
    {
     "name": "stdout",
     "output_type": "stream",
     "text": [
      "(0.2621470772419939, 4.432877037424698e-09)\n"
     ]
    }
   ],
   "source": [
    "corr = pearsonr(features['APG'], features['RPG'])\n",
    "print(corr)"
   ]
  },
  {
   "cell_type": "code",
   "execution_count": 29,
   "metadata": {},
   "outputs": [
    {
     "name": "stdout",
     "output_type": "stream",
     "text": [
      "(0.6462387594877858, 8.449009856730536e-59)\n"
     ]
    }
   ],
   "source": [
    "corr = pearsonr(features['APG'], features['MPG'])\n",
    "print(corr)"
   ]
  },
  {
   "cell_type": "code",
   "execution_count": 30,
   "metadata": {},
   "outputs": [
    {
     "name": "stdout",
     "output_type": "stream",
     "text": [
      "(0.6791325505414545, 5.341661387950416e-67)\n"
     ]
    }
   ],
   "source": [
    "corr = pearsonr(features['APG'], features['SPG'])\n",
    "print(corr)"
   ]
  },
  {
   "cell_type": "code",
   "execution_count": 31,
   "metadata": {},
   "outputs": [
    {
     "name": "stdout",
     "output_type": "stream",
     "text": [
      "(0.6426431176360194, 5.784175573064937e-58)\n"
     ]
    }
   ],
   "source": [
    "corr = pearsonr(features['APG'], features['Season_score'])\n",
    "print(corr)"
   ]
  },
  {
   "cell_type": "code",
   "execution_count": 32,
   "metadata": {},
   "outputs": [
    {
     "name": "stdout",
     "output_type": "stream",
     "text": [
      "(0.7495537821406103, 9.143356195151338e-89)\n"
     ]
    }
   ],
   "source": [
    "corr = pearsonr(features['RPG'], features['Game_score'])\n",
    "print(corr)"
   ]
  },
  {
   "cell_type": "code",
   "execution_count": 33,
   "metadata": {},
   "outputs": [
    {
     "name": "stdout",
     "output_type": "stream",
     "text": [
      "(0.6488606480559077, 2.043985170040328e-59)\n"
     ]
    }
   ],
   "source": [
    "corr = pearsonr(features['RPG'], features['MPG'])\n",
    "print(corr)"
   ]
  },
  {
   "cell_type": "code",
   "execution_count": 34,
   "metadata": {},
   "outputs": [
    {
     "name": "stdout",
     "output_type": "stream",
     "text": [
      "(0.4615087568631235, 5.236579053834545e-27)\n"
     ]
    }
   ],
   "source": [
    "corr = pearsonr(features['RPG'], features['SPG'])\n",
    "print(corr)"
   ]
  },
  {
   "cell_type": "code",
   "execution_count": 35,
   "metadata": {},
   "outputs": [
    {
     "name": "stdout",
     "output_type": "stream",
     "text": [
      "(0.717708283136656, 4.2580797885929836e-78)\n"
     ]
    }
   ],
   "source": [
    "corr = pearsonr(features['RPG'], features['Season_score'])\n",
    "print(corr)"
   ]
  },
  {
   "cell_type": "code",
   "execution_count": 36,
   "metadata": {},
   "outputs": [
    {
     "name": "stdout",
     "output_type": "stream",
     "text": [
      "(0.9003437128251645, 5.250451255693235e-177)\n"
     ]
    }
   ],
   "source": [
    "corr = pearsonr(features['MPG'], features['Game_score'])\n",
    "print(corr)"
   ]
  },
  {
   "cell_type": "code",
   "execution_count": 37,
   "metadata": {},
   "outputs": [
    {
     "name": "stdout",
     "output_type": "stream",
     "text": [
      "(0.7732773361522371, 8.018368004262954e-98)\n"
     ]
    }
   ],
   "source": [
    "corr = pearsonr(features['MPG'], features['SPG'])\n",
    "print(corr)"
   ]
  },
  {
   "cell_type": "code",
   "execution_count": 38,
   "metadata": {},
   "outputs": [
    {
     "name": "stdout",
     "output_type": "stream",
     "text": [
      "(0.8717518382231636, 4.477930477568849e-152)\n"
     ]
    }
   ],
   "source": [
    "corr = pearsonr(features['MPG'], features['Season_score'])\n",
    "print(corr)"
   ]
  },
  {
   "cell_type": "code",
   "execution_count": 39,
   "metadata": {},
   "outputs": [
    {
     "name": "stdout",
     "output_type": "stream",
     "text": [
      "(0.7185613712400485, 2.305653486537754e-78)\n"
     ]
    }
   ],
   "source": [
    "corr = pearsonr(features['SPG'], features['Game_score'])\n",
    "print(corr)"
   ]
  },
  {
   "cell_type": "code",
   "execution_count": 40,
   "metadata": {},
   "outputs": [
    {
     "name": "stdout",
     "output_type": "stream",
     "text": [
      "(0.6978029107864662, 3.7808633686687665e-72)\n"
     ]
    }
   ],
   "source": [
    "corr = pearsonr(features['SPG'], features['Season_score'])\n",
    "print(corr)"
   ]
  },
  {
   "cell_type": "markdown",
   "metadata": {},
   "source": [
    "The five features i would keep are 'APG', 'SPG', 'PPG', 'RPG', and \"Season_score'. They have a low correlation to each other and the other features. This means that they give us better insight and more detail than the ones that have higher correlation. "
   ]
  }
 ],
 "metadata": {
  "kernelspec": {
   "display_name": "Python 3",
   "language": "python",
   "name": "python3"
  },
  "language_info": {
   "codemirror_mode": {
    "name": "ipython",
    "version": 3
   },
   "file_extension": ".py",
   "mimetype": "text/x-python",
   "name": "python",
   "nbconvert_exporter": "python",
   "pygments_lexer": "ipython3",
   "version": "3.7.1"
  }
 },
 "nbformat": 4,
 "nbformat_minor": 2
}
